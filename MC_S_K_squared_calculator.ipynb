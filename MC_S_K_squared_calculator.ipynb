{
  "cells": [
    {
      "cell_type": "markdown",
      "metadata": {
        "id": "view-in-github",
        "colab_type": "text"
      },
      "source": [
        "<a href=\"https://colab.research.google.com/github/FinCode-17/Options-Futures/blob/main/MC_S_K_squared_calculator.ipynb\" target=\"_parent\"><img src=\"https://colab.research.google.com/assets/colab-badge.svg\" alt=\"Open In Colab\"/></a>"
      ]
    },
    {
      "cell_type": "code",
      "execution_count": null,
      "metadata": {
        "scrolled": true,
        "id": "NQO-QkfSKWjl"
      },
      "outputs": [],
      "source": [
        "import numpy as np\n",
        "\n",
        "def STxN(S,r,sigma,T,y,N):\n",
        "    drift = (r-y-(sigma**2)/2)*T\n",
        "    SD = sigma*np.sqrt(T)\n",
        "    return S*np.exp(np.random.normal(drift,SD,N))"
      ]
    },
    {
      "cell_type": "code",
      "execution_count": null,
      "metadata": {
        "id": "7n479-SJKWjm"
      },
      "outputs": [],
      "source": [
        "def MCVal_SmK2(S,K,T,r,sigma,y,N):\n",
        "    PO = (STxN(S,r,sigma,T,y,N)-K)**2/K\n",
        "    return np.exp(-r*T)*np.mean(PO)\n",
        "\n",
        "S = 100\n",
        "K = 100\n",
        "r = 0.05\n",
        "sigma = 0.5\n",
        "y = 0;\n",
        "T = 1/4\n",
        "N = 10**7\n",
        "\n",
        "\n",
        "print(MCVal_SmK2(S,K,T,r,sigma,y,N))"
      ]
    }
  ],
  "metadata": {
    "kernelspec": {
      "display_name": "Python 3",
      "language": "python",
      "name": "python3"
    },
    "language_info": {
      "codemirror_mode": {
        "name": "ipython",
        "version": 3
      },
      "file_extension": ".py",
      "mimetype": "text/x-python",
      "name": "python",
      "nbconvert_exporter": "python",
      "pygments_lexer": "ipython3",
      "version": "3.7.1"
    },
    "colab": {
      "provenance": [],
      "include_colab_link": true
    }
  },
  "nbformat": 4,
  "nbformat_minor": 0
}