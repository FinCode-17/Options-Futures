{
  "cells": [
    {
      "cell_type": "markdown",
      "metadata": {
        "id": "view-in-github",
        "colab_type": "text"
      },
      "source": [
        "<a href=\"https://colab.research.google.com/github/FinCode-17/Options-Futures/blob/main/MC_American_call_calculator.ipynb\" target=\"_parent\"><img src=\"https://colab.research.google.com/assets/colab-badge.svg\" alt=\"Open In Colab\"/></a>"
      ]
    },
    {
      "cell_type": "code",
      "execution_count": null,
      "metadata": {
        "scrolled": true,
        "id": "xOM4s-TOKCOr"
      },
      "outputs": [],
      "source": [
        "import numpy as np\n",
        "import scipy.stats as ss\n",
        "import matplotlib.pyplot as plt\n",
        "\n",
        "def BS(S,K,T,r,sigma):\n",
        "    d2 = (np.log(S/K)+(r-sigma**2/2)*T)/(sigma*np.sqrt(T))\n",
        "    return S*ss.norm.cdf(d2+sigma*np.sqrt(T))-K*np.exp(-r*T)*ss.norm.cdf(d2)\n",
        "\n",
        "def BSAmeriCallBound(S,K,T,r,sigma,D,TD):\n",
        "    ShortCumDiv = BS(S,K,TD,r,sigma)\n",
        "    LongExDiv = BS(S-np.exp(-r*TD)*D,K,T,r,sigma)\n",
        "    return np.maximum(ShortCumDiv,LongExDiv)"
      ]
    },
    {
      "cell_type": "code",
      "execution_count": null,
      "metadata": {
        "id": "aG_UK9NLKCOs"
      },
      "outputs": [],
      "source": [
        "def STxN(S,r,sigma,T,N):\n",
        "    drift = (r-(sigma**2)/2)*T\n",
        "    SD = sigma*np.sqrt(T)\n",
        "    return S*np.exp(np.random.normal(drift,SD,N))"
      ]
    },
    {
      "cell_type": "code",
      "execution_count": null,
      "metadata": {
        "id": "b18el_L7KCOs"
      },
      "outputs": [],
      "source": [
        "S = 100\n",
        "K = 100\n",
        "r = 0.05\n",
        "sigma = 0.5\n",
        "T = 1/4\n",
        "N = 10**7\n",
        "\n",
        "Realized_ST = STxN(S,r,sigma,T,N)\n",
        "\n",
        "\n",
        "plt.hist(np.log(Realized_ST/100), bins=1000, density=True);\n",
        "\n",
        "\n",
        "print(np.exp(-r*T)*np.mean(Realized_ST))"
      ]
    },
    {
      "cell_type": "code",
      "execution_count": null,
      "metadata": {
        "id": "C7Mevhq8KCOs"
      },
      "outputs": [],
      "source": [
        "def MCCall(S,K,T,r,sigma,N):\n",
        "    PO = STxN(S,r,sigma,T,N)-K\n",
        "    PO[PO<0] = 0\n",
        "    return np.exp(-r*T)*np.mean(PO)\n",
        "\n",
        "N = 10**7\n",
        "\n",
        "print(BS(S,K,T,r,sigma))\n",
        "print(MCCall(S,K,T,r,sigma,N))"
      ]
    },
    {
      "cell_type": "code",
      "execution_count": null,
      "metadata": {
        "id": "Lr4e0HazKCOt"
      },
      "outputs": [],
      "source": [
        "def MCAmeriCall(S,K,r,sigma,T,D,TD,N):\n",
        "    STD = STxN(S,r,sigma,TD,N)\n",
        "    EX_PO = STD - K;\n",
        "    LX_PO = BS(STD - D,K,T-TD,r,sigma)\n",
        "    PO = np.maximum(EX_PO,LX_PO)\n",
        "    return np.exp(-r*TD)*np.mean(PO)\n",
        "\n",
        "TD = 1/6\n",
        "D = 3\n",
        "\n",
        "print(BSAmeriCallBound(S,K,T,r,sigma,D,TD))\n",
        "print(MCAmeriCall(S,K,r,sigma,T,D,TD,N))"
      ]
    },
    {
      "cell_type": "code",
      "execution_count": null,
      "metadata": {
        "scrolled": true,
        "id": "VJl8wW8rKCOt"
      },
      "outputs": [],
      "source": [
        "S = 100\n",
        "K = 100\n",
        "r = 0.05\n",
        "sigma = 0.5\n",
        "T = 1/4\n",
        "D = 3\n",
        "TD = 1/6\n",
        "\n",
        "N = 10**7\n",
        "\n",
        "print(MCAmeriCall(S,K,r,sigma,T,D,TD,N))"
      ]
    }
  ],
  "metadata": {
    "kernelspec": {
      "display_name": "Python 3",
      "language": "python",
      "name": "python3"
    },
    "language_info": {
      "codemirror_mode": {
        "name": "ipython",
        "version": 3
      },
      "file_extension": ".py",
      "mimetype": "text/x-python",
      "name": "python",
      "nbconvert_exporter": "python",
      "pygments_lexer": "ipython3",
      "version": "3.7.1"
    },
    "colab": {
      "provenance": [],
      "include_colab_link": true
    }
  },
  "nbformat": 4,
  "nbformat_minor": 0
}