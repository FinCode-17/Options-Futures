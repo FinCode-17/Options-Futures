{
  "cells": [
    {
      "cell_type": "markdown",
      "metadata": {
        "id": "view-in-github",
        "colab_type": "text"
      },
      "source": [
        "<a href=\"https://colab.research.google.com/github/FinCode-17/Options-Futures/blob/main/Jump_Diffusion_Monte_Carlo.ipynb\" target=\"_parent\"><img src=\"https://colab.research.google.com/assets/colab-badge.svg\" alt=\"Open In Colab\"/></a>"
      ]
    },
    {
      "cell_type": "code",
      "execution_count": null,
      "metadata": {
        "id": "TtNpa9CaJ1uK"
      },
      "outputs": [],
      "source": [
        "import numpy as np\n",
        "import scipy.stats as ss\n",
        "import time\n",
        "from scipy.optimize import root\n",
        "\n",
        "\n",
        "def BS(S0,K,T,r,sigma,call = 1,QuoteCon = 0):\n",
        "    if QuoteCon > 0:\n",
        "        r = QuoteCon*np.log(1+r/QuoteCon)\n",
        "    d2 = (np.log(S0/K)+(r-sigma**2/2)*T)/(sigma*np.sqrt(T))\n",
        "    d1 = d2+sigma*np.sqrt(T)\n",
        "    if call == 1:\n",
        "        return S0*ss.norm.cdf(d1)-K*np.exp(-r*T)*ss.norm.cdf(d2)\n",
        "    else:\n",
        "        return K*np.exp(-r*T)*ss.norm.cdf(-d2)-S0*ss.norm.cdf(-d1)\n",
        "\n",
        "\n",
        "def IVOL(S0,K,T,r,c_K,call = 1,QuoteCon = 0):\n",
        "    if QuoteCon > 0:\n",
        "        r = QuoteCon*np.log(1+r/QuoteCon)\n",
        "    def temp(v):\n",
        "        return BS(S0,K,T,r,v,call,QuoteCon)-c_K\n",
        "    res = root(temp,[2])\n",
        "    return res.x[0]"
      ]
    },
    {
      "cell_type": "code",
      "execution_count": null,
      "metadata": {
        "id": "UGW5UFtvJ1uM"
      },
      "outputs": [],
      "source": [
        "def STxNwJumps(S0,r,sigma,crash_rate,mean_crash_loss,crash_sigma,T,N):\n",
        "\n",
        "    drift = r-(sigma**2)/2+mean_crash_loss*crash_rate\n",
        "    normal_ret = np.random.normal(drift*T,sigma*np.sqrt(T),N);\n",
        "    jumps = np.random.poisson(crash_rate*T,N)\n",
        "    def jumpret(j):\n",
        "        return (j*np.log(1-mean_crash_loss)+\n",
        "                np.random.normal(-j*crash_sigma**2/2,np.sqrt(j)*crash_sigma))\n",
        "    jump_ret = jumpret(jumps)\n",
        "    ST = S0*np.exp(normal_ret+jump_ret)\n",
        "    return ST"
      ]
    },
    {
      "cell_type": "code",
      "execution_count": null,
      "metadata": {
        "id": "UhKVLqloJ1uN"
      },
      "outputs": [],
      "source": [
        "S0=100;\n",
        "r=0.02; sigma=0.5\n",
        "crash_rate=1/10; mean_crash_loss=0.20; crash_sigma=0.3\n",
        "T=1;\n",
        "\n",
        "N=10**6\n",
        "\n",
        "t = time.time()\n",
        "print(np.exp(-r*T)*np.mean(STxNwJumps(S0,r,sigma,crash_rate,mean_crash_loss,crash_sigma,T,N)))\n",
        "print(time.time()-t)"
      ]
    },
    {
      "cell_type": "code",
      "execution_count": null,
      "metadata": {
        "id": "T_jbfm8ZJ1uN"
      },
      "outputs": [],
      "source": [
        "def JumpDiffMCCall(S0,K,r,T,sigma,crash_rate,mean_crash_loss,crash_sigma,N,call = 1):\n",
        "    ST = STxNwJumps(S0,r,sigma,crash_rate,mean_crash_loss,crash_sigma,T,N)\n",
        "    if call == 1:\n",
        "        payoff = ST-K\n",
        "    else:\n",
        "        payoff = K-ST\n",
        "    payoff[payoff<0] = 0\n",
        "    return np.exp(-r*T)*np.mean(payoff)"
      ]
    },
    {
      "cell_type": "code",
      "execution_count": null,
      "metadata": {
        "id": "-x4dZdP2J1uO"
      },
      "outputs": [],
      "source": [
        "S0=100; K=50; r=0.02; T=1\n",
        "sigma=0.5; crash_rate=1/10; mean_crash_loss=0.20\n",
        "crash_sigma=0.3\n",
        "N=10**7\n",
        "\n",
        "print(BS(S0,K,T,r,sigma,0))\n",
        "print(JumpDiffMCCall(S0,K,r,T,sigma,0,mean_crash_loss,crash_sigma,N,0))\n",
        "print(JumpDiffMCCall(S0,K,r,T,sigma,crash_rate,mean_crash_loss,crash_sigma,N,0))"
      ]
    },
    {
      "cell_type": "code",
      "execution_count": null,
      "metadata": {
        "id": "hZigWnteJ1uO"
      },
      "outputs": [],
      "source": [
        "import matplotlib.pyplot as plt\n",
        "\n",
        "S0=100; r=0.02;\n",
        "sigma=0.16\n",
        "crash_rate=1/10;\n",
        "mean_crash_loss=0.20;\n",
        "crash_sigma=0.30\n",
        "\n",
        "N=10**7\n",
        "\n",
        "TTM = [1,1/4,1/12];\n",
        "\n",
        "Kmin = 80\n",
        "Kmax = 130\n",
        "stepsize = 1;\n",
        "strikerange = [Kmin,Kmax+stepsize];\n",
        "KN = round((strikerange[1]-strikerange[0])/stepsize);\n",
        "\n",
        "JD_IVOL = np.zeros((KN,len(TTM)))\n",
        "tempt = time.time()\n",
        "for k in range(KN):\n",
        "    K = strikerange[0]+k*stepsize\n",
        "    if K%10 == 0:\n",
        "        print([K, time.time()-tempt])\n",
        "        tempt = time.time()\n",
        "    for t in range(len(TTM)):\n",
        "        T = TTM[t]\n",
        "        CP = JumpDiffMCCall(S0,K,r,T,sigma,crash_rate,mean_crash_loss,crash_sigma,N)\n",
        "        IV = IVOL(S0,K,T,r,CP)\n",
        "        JD_IVOL[k,t] = IV\n",
        "\n",
        "strikes = np.arange(strikerange[0],strikerange[1],stepsize)\n",
        "plt.plot(strikes, JD_IVOL)"
      ]
    },
    {
      "cell_type": "code",
      "execution_count": null,
      "metadata": {
        "id": "E5NlfhW_J1uO"
      },
      "outputs": [],
      "source": [
        "N=10**6\n",
        "\n",
        "S0=100;\n",
        "K_ATM=S0;\n",
        "K=80;\n",
        "r=0.05;\n",
        "T = 1/4;\n",
        "sigma=0.16\n",
        "crash_rate=1/10;\n",
        "mean_crash_loss=0.20;\n",
        "crash_sigma=0.30\n",
        "\n",
        "temp = time.time()\n",
        "\n",
        "CP = JumpDiffMCCall(S0,K_ATM,r,T,sigma,crash_rate,mean_crash_loss,crash_sigma,N)\n",
        "IV_ATM = IVOL(S0,K_ATM,T,r,CP)\n",
        "CP = JumpDiffMCCall(S0,K,r,T,sigma,crash_rate,mean_crash_loss,crash_sigma,N)\n",
        "IV = IVOL(S0,K,T,r,CP)\n",
        "print(100*IV_ATM)\n",
        "print(100*IV)\n",
        "print(' ')\n",
        "print(time.time()-temp)"
      ]
    }
  ],
  "metadata": {
    "kernelspec": {
      "display_name": "Python 3",
      "language": "python",
      "name": "python3"
    },
    "language_info": {
      "codemirror_mode": {
        "name": "ipython",
        "version": 3
      },
      "file_extension": ".py",
      "mimetype": "text/x-python",
      "name": "python",
      "nbconvert_exporter": "python",
      "pygments_lexer": "ipython3",
      "version": "3.7.1"
    },
    "colab": {
      "provenance": [],
      "include_colab_link": true
    }
  },
  "nbformat": 4,
  "nbformat_minor": 0
}