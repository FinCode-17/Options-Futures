{
  "nbformat": 4,
  "nbformat_minor": 0,
  "metadata": {
    "colab": {
      "provenance": [],
      "authorship_tag": "ABX9TyO8jxP4P5QKaQO6vbZCqEk/",
      "include_colab_link": true
    },
    "kernelspec": {
      "name": "python3",
      "display_name": "Python 3"
    },
    "language_info": {
      "name": "python"
    }
  },
  "cells": [
    {
      "cell_type": "markdown",
      "metadata": {
        "id": "view-in-github",
        "colab_type": "text"
      },
      "source": [
        "<a href=\"https://colab.research.google.com/github/FinCode-17/Options-Futures/blob/main/Binomial_American_Call_Calculator.ipynb\" target=\"_parent\"><img src=\"https://colab.research.google.com/assets/colab-badge.svg\" alt=\"Open In Colab\"/></a>"
      ]
    },
    {
      "cell_type": "code",
      "execution_count": null,
      "metadata": {
        "id": "SFnDCfPpI75q"
      },
      "outputs": [],
      "source": [
        "import numpy as np\n",
        "import scipy.stats as ss\n",
        "import matplotlib.pyplot as plt\n",
        "\n",
        "def BS(S,K,T,r,sigma):\n",
        "    d2 = (np.log(S/K)+(r-sigma**2/2)*T)/(sigma*np.sqrt(T))\n",
        "    return S*ss.norm.cdf(d2+sigma*np.sqrt(T))-K*np.exp(-r*T)*ss.norm.cdf(d2)\n",
        "\n",
        "def BSAmeriCallBound(S,K,T,r,sigma,d,TD):\n",
        "    ShortCumDiv = BS(S,K,TD,r,sigma)\n",
        "    LongExDiv = BS(S*(1-d),K,T,r,sigma)\n",
        "    return np.maximum(ShortCumDiv,LongExDiv)"
      ]
    },
    {
      "cell_type": "code",
      "source": [
        "def imat(n):\n",
        "    B = np.empty((n+1,n+1,))\n",
        "    B[:] = np.nan\n",
        "    return B\n",
        "\n",
        "def maketree(S,u,d,n):\n",
        "    B = imat(n)\n",
        "    B[0][0] = S\n",
        "    for i in range(n):\n",
        "        B[0][i+1] = B[0][i]*u\n",
        "        for j in range(i+1):\n",
        "            B[j+1][i+1] = B[j][i+1]*d/u\n",
        "    return B\n",
        "\n",
        "def CRRTree(S,sigma,T,n):\n",
        "\n",
        "    u = np.exp(sigma*np.sqrt(T/n))\n",
        "    return maketree(S,u,1/u,n)"
      ],
      "metadata": {
        "id": "Z60N29mcJKf4"
      },
      "execution_count": null,
      "outputs": []
    },
    {
      "cell_type": "code",
      "source": [
        "def RNP(PO,q,r):\n",
        "    n = len(PO)\n",
        "    M = imat(n)\n",
        "    M[:,-1] = PO\n",
        "    for i in range(n):\n",
        "        M[0:n-i,n-1-i] = (q*M[0:n-i,n-i]+(1-q)*M[1:n+1-i,n-i])/(1+r)\n",
        "    return M\n",
        "\n",
        "def CRRCall(S,K,T,r,sigma,n):\n",
        "    CRRT = CRRTree(S,sigma,T,n)\n",
        "    u = CRRT[0,1]/CRRT[0,0]\n",
        "    r1p = np.exp(r*T/n)-1\n",
        "    PO = CRRT[:,-1] - K\n",
        "    PO[PO < 0] = 0\n",
        "    return RNP(PO,(1+r1p-1/u)/(u-1/u),r1p)\n",
        "\n",
        "\n",
        "\n",
        "S = 100\n",
        "K = 100\n",
        "r = 0.05\n",
        "sigma = 0.5\n",
        "T = 1/4\n",
        "n = 300\n",
        "\n",
        "print(BS(S,K,T,r,sigma))\n",
        "print(CRRCall(S,K,T,r,sigma,n)[0,0])"
      ],
      "metadata": {
        "id": "5Khzok5nJfUJ"
      },
      "execution_count": null,
      "outputs": []
    }
  ]
}